{
 "cells": [
  {
   "cell_type": "code",
   "execution_count": 3,
   "source": [
    "import os\n",
    "import json"
   ],
   "outputs": [],
   "metadata": {}
  },
  {
   "cell_type": "code",
   "execution_count": 4,
   "source": [
    "def list_all(t):\n",
    "    plist = os.listdir(t)\n",
    "    \n",
    "    ls = []\n",
    "    for each in plist:\n",
    "        with open(os.path.join(t, each, \"data.json\"), \"r\") as f: \n",
    "            d = json.loads(f.read())\n",
    "            d[\"path\"] = os.path.join(\"res\", \"examples\", t, each)\n",
    "            ls.append(d)\n",
    "    return ls\n",
    "\n"
   ],
   "outputs": [],
   "metadata": {}
  },
  {
   "cell_type": "code",
   "execution_count": null,
   "source": [
    "\n",
    "with open(\"examples-meta.js\", \"w+\") as f:\n",
    "    obj = json.dumps(list_all(\"choose_img\"))\n",
    "    f.write(\"CHOOSE_IMAGE_LS = \")\n",
    "    f.write(obj)\n",
    "    f.write(\"\\n\")\n",
    "    obj = json.dumps(list_all(\"choose_txt\"))\n",
    "    f.write(\"CHOOSE_TEXT_LS = \")\n",
    "    f.write(obj)\n",
    "    f.write(\"\\n\")    \n",
    "    obj = json.dumps(list_all(\"fill_in_blank\"))\n",
    "    f.write(\"FILL_IN_BLANK_LS = \")\n",
    "    f.write(obj)\n",
    "    f.write(\"\\n\")\n"
   ],
   "outputs": [],
   "metadata": {}
  },
  {
   "cell_type": "code",
   "execution_count": 5,
   "source": [
    "import cv2\n",
    "import numpy as np"
   ],
   "outputs": [],
   "metadata": {}
  },
  {
   "cell_type": "code",
   "execution_count": 9,
   "source": [
    "# ls = list_all(\"fill_in_blank\")\n",
    "def remove_black(path):\n",
    "    img = cv2.imread(path)\n",
    "    gray = cv2.cvtColor(img,cv2.COLOR_BGR2GRAY)\n",
    "    _,thresh = cv2.threshold(gray,1,255,cv2.THRESH_BINARY)\n",
    "    contours,hierarchy = cv2.findContours(thresh,cv2.RETR_EXTERNAL,cv2.CHAIN_APPROX_SIMPLE)\n",
    "    cnt = contours[0]\n",
    "    x,y,w,h = cv2.boundingRect(cnt)\n",
    "    crop = img[y:y+h,x:x+w]\n",
    "    cv2.imwrite(path, crop)\n"
   ],
   "outputs": [],
   "metadata": {}
  },
  {
   "cell_type": "code",
   "execution_count": 13,
   "source": [
    "# t = \"choose_img\"\n",
    "# t = \"choose_txt\"\n",
    "t = \"fill_in_blank\"\n",
    "for e in os.listdir(t):\n",
    "    q = os.path.join(t, e)\n",
    "    imgs = [a for a in os.listdir(q) if a.endswith(\".png\")]\n",
    "    for i in imgs:\n",
    "        remove_black(os.path.join(q, i))"
   ],
   "outputs": [],
   "metadata": {}
  }
 ],
 "metadata": {
  "orig_nbformat": 4,
  "language_info": {
   "name": "python",
   "version": "3.8.5",
   "mimetype": "text/x-python",
   "codemirror_mode": {
    "name": "ipython",
    "version": 3
   },
   "pygments_lexer": "ipython3",
   "nbconvert_exporter": "python",
   "file_extension": ".py"
  },
  "kernelspec": {
   "name": "python3",
   "display_name": "Python 3.8.5 64-bit ('base': conda)"
  },
  "interpreter": {
   "hash": "1f89498b3b4a4833a80a1d81e6ec44862b0a82d24c3b1fcecb94c81100afa143"
  }
 },
 "nbformat": 4,
 "nbformat_minor": 2
}